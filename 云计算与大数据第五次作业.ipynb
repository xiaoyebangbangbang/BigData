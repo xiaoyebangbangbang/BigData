{
 "cells": [
  {
   "cell_type": "code",
   "execution_count": 8,
   "metadata": {
    "scrolled": true
   },
   "outputs": [
    {
     "name": "stdin",
     "output_type": "stream",
     "text": [
      "请输入待查询的名字： 刘潇\n"
     ]
    },
    {
     "data": {
      "text/html": [
       "<table border=\"1\" class=\"dataframe\">\n",
       "    <thead>\n",
       "        <tr>\n",
       "            <th>日期</th> <th>时间</th> <th>教室</th> <th>科目</th>\n",
       "        </tr>\n",
       "    </thead>\n",
       "    <tbody>\n",
       "        <tr>\n",
       "            <td>['2022/11/14']</td> <td>['14:30-16:30']</td> <td>['教一505'] </td> <td>['hadoop']</td>\n",
       "        </tr>\n",
       "        <tr>\n",
       "            <td>['2022/11/15']</td> <td>['14:30-16:30']</td> <td>['理一A311']</td> <td>['hive']  </td>\n",
       "        </tr>\n",
       "        <tr>\n",
       "            <td>[]            </td> <td>[]             </td> <td>[]        </td> <td>[]        </td>\n",
       "        </tr>\n",
       "        <tr>\n",
       "            <td>[]            </td> <td>[]             </td> <td>[]        </td> <td>[]        </td>\n",
       "        </tr>\n",
       "    </tbody>\n",
       "</table>"
      ],
      "text/plain": [
       "日期             | 时间              | 教室         | 科目\n",
       "['2022/11/14'] | ['14:30-16:30'] | ['教一505']  | ['hadoop']\n",
       "['2022/11/15'] | ['14:30-16:30'] | ['理一A311'] | ['hive']\n",
       "[]             | []              | []         | []\n",
       "[]             | []              | []         | []"
      ]
     },
     "execution_count": 8,
     "metadata": {},
     "output_type": "execute_result"
    }
   ],
   "source": [
    "import datascience\n",
    "from datascience import *\n",
    "\n",
    "def table1(data,name):\n",
    "    temp = data.where(\"姓名\",name)\n",
    "    date = temp[2]\n",
    "    time = temp[3]\n",
    "    classroom = temp[4]\n",
    "    subject = temp[5]\n",
    "    return [date,time,classroom,subject]\n",
    "\n",
    "name = input('请输入待查询的名字：')\n",
    "\n",
    "data1 = Table.read_table('D:/homework/yunjisuan_homework/exam_data/hadoop.csv')\n",
    "data2 = Table.read_table('D:/homework/yunjisuan_homework/exam_data/hive.csv')\n",
    "data3 = Table.read_table('D:/homework/yunjisuan_homework/exam_data/spark.csv')\n",
    "data4 = Table.read_table('D:/homework/yunjisuan_homework/exam_data/高数监考表.csv')\n",
    "\n",
    "#data4.show()\n",
    "\n",
    "inform0 = table1(data1,name)\n",
    "inform1 = table1(data2,name)\n",
    "inform2 = table1(data3,name)\n",
    "inform3 = table1(data4,name)\n",
    "\n",
    "\n",
    "date = (inform0[0],inform1[0],inform2[0],inform3[0])\n",
    "time = (inform0[1],inform1[1],inform2[1],inform3[1])\n",
    "classroom = (inform0[2],inform1[2],inform2[2],inform3[2])\n",
    "subject = (inform0[3],inform1[3],inform2[3],inform3[3])\n",
    "\n",
    "students=Table().with_columns(\"日期\",date,\"时间\",time,\"教室\",classroom,\"科目\",subject)\n",
    "students\n",
    "\n",
    "\n"
   ]
  },
  {
   "cell_type": "code",
   "execution_count": null,
   "metadata": {
    "collapsed": true,
    "jupyter": {
     "outputs_hidden": true
    }
   },
   "outputs": [],
   "source": []
  }
 ],
 "metadata": {
  "kernelspec": {
   "display_name": "Python 3 (ipykernel)",
   "language": "python",
   "name": "python3"
  },
  "language_info": {
   "codemirror_mode": {
    "name": "ipython",
    "version": 3
   },
   "file_extension": ".py",
   "mimetype": "text/x-python",
   "name": "python",
   "nbconvert_exporter": "python",
   "pygments_lexer": "ipython3",
   "version": "3.11.0"
  }
 },
 "nbformat": 4,
 "nbformat_minor": 4
}
