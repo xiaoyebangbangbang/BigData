{
 "cells": [
  {
   "cell_type": "code",
   "execution_count": 1,
   "metadata": {},
   "outputs": [
    {
     "name": "stdout",
     "output_type": "stream",
     "text": [
      "请输入一个名字刘翔\n",
      "请输入一个名字周靖珊\n"
     ]
    },
    {
     "data": {
      "text/html": [
       "<table border=\"1\" class=\"dataframe\">\n",
       "    <thead>\n",
       "        <tr>\n",
       "            <th>刘翔的年级RANK</th> <th>周靖珊的年级RANK</th>\n",
       "        </tr>\n",
       "    </thead>\n",
       "    <tbody>\n",
       "        <tr>\n",
       "            <td>76       </td> <td>364       </td>\n",
       "        </tr>\n",
       "        <tr>\n",
       "            <td>187      </td> <td>443       </td>\n",
       "        </tr>\n",
       "        <tr>\n",
       "            <td>334      </td> <td>350       </td>\n",
       "        </tr>\n",
       "        <tr>\n",
       "            <td>222      </td> <td>429       </td>\n",
       "        </tr>\n",
       "        <tr>\n",
       "            <td>97       </td> <td>296       </td>\n",
       "        </tr>\n",
       "        <tr>\n",
       "            <td>131      </td> <td>273       </td>\n",
       "        </tr>\n",
       "        <tr>\n",
       "            <td>457      </td> <td>305       </td>\n",
       "        </tr>\n",
       "    </tbody>\n",
       "</table>"
      ],
      "text/plain": [
       "<IPython.core.display.HTML object>"
      ]
     },
     "metadata": {},
     "output_type": "display_data"
    },
    {
     "data": {
      "image/png": "[encoded data removed]",
      "text/plain": [
       "<Figure size 432x288 with 1 Axes>"
      ]
     },
     "metadata": {
      "needs_background": "light"
     },
     "output_type": "display_data"
    }
   ],
   "source": [
    "from datascience import *\n",
    "import matplotlib.pyplot as plt\n",
    "import matplotlib\n",
    "matplotlib.use('TkAgg')\n",
    "# 导入第三方库\n",
    "%matplotlib inline\n",
    "\n",
    "\n",
    "def extract_rank(data,name):\n",
    "    temp = data.where('姓名',are.equal_to(name)).column(11).item(0)\n",
    "    return temp\n",
    "    \n",
    "\n",
    "data1=Table.read_table('E:/blog/cloud/20211105-utf-8.csv')\n",
    "data2=Table.read_table('E:/blog/cloud/20211106-utf-8.csv')\n",
    "data3=Table.read_table('E:/blog/cloud/20211107-utf-8.csv')\n",
    "data4=Table.read_table('E:/blog/cloud/20211108-utf-8.csv')\n",
    "data5=Table.read_table('E:/blog/cloud/20211109-1-utf-8.csv')\n",
    "data6=Table.read_table('E:/blog/cloud/20211109-utf-8.csv')\n",
    "data7=Table.read_table('E:/blog/cloud/20211110-utf-8.csv')\n",
    "\n",
    "name1 = input(\"请输入一个名字\")\n",
    "name2 = input(\"请输入一个名字\")\n",
    "\n",
    "rank1 = extract_rank(data1,name1)\n",
    "rank2 = extract_rank(data2,name1)\n",
    "rank3 = extract_rank(data3,name1)\n",
    "rank4 = extract_rank(data4,name1)\n",
    "rank5 = extract_rank(data5,name1)\n",
    "rank6 = extract_rank(data6,name1)\n",
    "rank7 = extract_rank(data7,name1)\n",
    "\n",
    "rank11 = extract_rank(data1,name2)\n",
    "rank22 = extract_rank(data2,name2)\n",
    "rank33 = extract_rank(data3,name2)\n",
    "rank44 = extract_rank(data4,name2)\n",
    "rank55 = extract_rank(data5,name2)\n",
    "rank66 = extract_rank(data6,name2)\n",
    "rank77 = extract_rank(data7,name2)\n",
    "\n",
    "\n",
    "rank_array1 = make_array(rank1,rank2,rank3,rank4,rank5,rank6,rank7)\n",
    "rank_array2 = make_array(rank11,rank22,rank33,rank44,rank55,rank66,rank77)\n",
    "result1=Table().with_columns(name1+'的年级RANK',rank_array1,name2+'的年级RANK',rank_array2)\n",
    "\n",
    "\n",
    "result1.show()\n",
    "\n",
    "\n",
    "plt.plot(make_array(1,2,3,4,5,6,7),rank_array1,'o--',label=name1)\n",
    "plt.plot(make_array(1,2,3,4,5,6,7),rank_array2,'o--',label=name2)\n",
    "\n",
    "plt.title(name1 +'和'+ name2 + '历次年级排名趋势图')\n",
    "plt.xlabel('历次考试')\n",
    "plt.ylabel('年级RANK')\n",
    "\n",
    "plt.axis([0,10,650,150])\n",
    "plt.legend(loc='upper right')\n",
    "\n",
    "plt.rcParams['font.sans-serif']=['Microsoft YaHei']\n",
    "\n",
    "plt.grid()\n",
    "plt.show()"
   ]
  },
  {
   "cell_type": "code",
   "execution_count": null,
   "metadata": {},
   "outputs": [],
   "source": []
  }
 ],
 "metadata": {
  "kernelspec": {
   "display_name": "Python 3",
   "language": "python",
   "name": "python3"
  },
  "language_info": {
   "codemirror_mode": {
    "name": "ipython",
    "version": 3
   },
   "file_extension": ".py",
   "mimetype": "text/x-python",
   "name": "python",
   "nbconvert_exporter": "python",
   "pygments_lexer": "ipython3",
   "version": "3.7.6"
  }
 },
 "nbformat": 4,
 "nbformat_minor": 4
}
